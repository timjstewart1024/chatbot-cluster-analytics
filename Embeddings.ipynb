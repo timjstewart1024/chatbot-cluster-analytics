{
 "cells": [
  {
   "cell_type": "code",
   "execution_count": 1,
   "id": "ac878f11-c1c4-4c06-a7e7-6f444f5c893b",
   "metadata": {},
   "outputs": [
    {
     "name": "stdout",
     "output_type": "stream",
     "text": [
      "Note: you may need to restart the kernel to use updated packages.\n",
      "Note: you may need to restart the kernel to use updated packages.\n",
      "Note: you may need to restart the kernel to use updated packages.\n",
      "Note: you may need to restart the kernel to use updated packages.\n",
      "Note: you may need to restart the kernel to use updated packages.\n"
     ]
    }
   ],
   "source": [
    "%pip install -U -q google-generativeai\n",
    "%pip install -q tqdm\n",
    "%pip install -q scikit-learn\n",
    "%pip install -q matplotlib\n",
    "%pip install -q seaborn"
   ]
  },
  {
   "cell_type": "code",
   "execution_count": 2,
   "id": "728061d1-a720-4dfd-9c88-0cdcb228d515",
   "metadata": {},
   "outputs": [],
   "source": [
    "import google.generativeai as genai\n",
    "import pandas as pd\n",
    "import matplotlib.pyplot as plt\n",
    "import seaborn as sns\n",
    "import numpy as np\n",
    "import os\n",
    "\n",
    "from tqdm.auto import tqdm\n",
    "from sklearn.manifold import TSNE\n",
    "from sklearn.cluster import KMeans"
   ]
  },
  {
   "cell_type": "code",
   "execution_count": 3,
   "id": "5fde6f57-8328-4768-ac94-8fbda78afe70",
   "metadata": {},
   "outputs": [],
   "source": [
    "tqdm.pandas()"
   ]
  },
  {
   "cell_type": "code",
   "execution_count": 4,
   "id": "b0f49226-4095-4795-9a21-0f43a64bf604",
   "metadata": {},
   "outputs": [],
   "source": [
    "API_KEY = os.environ.get('GOOGLE_API_KEY')\n",
    "\n",
    "genai.configure(api_key=API_KEY)"
   ]
  },
  {
   "cell_type": "code",
   "execution_count": 5,
   "id": "13ef9eec-92d6-4fd9-8088-4d9e581b102f",
   "metadata": {},
   "outputs": [
    {
     "name": "stdout",
     "output_type": "stream",
     "text": [
      "models/embedding-001\n",
      "models/text-embedding-004\n"
     ]
    }
   ],
   "source": [
    "for m in genai.list_models():\n",
    "  if 'embedContent' in m.supported_generation_methods:\n",
    "    print(m.name)"
   ]
  },
  {
   "cell_type": "code",
   "execution_count": 6,
   "id": "93483840-1c08-496f-bf05-5a32cb0fe2ca",
   "metadata": {},
   "outputs": [
    {
     "data": {
      "text/html": [
       "<div>\n",
       "<style scoped>\n",
       "    .dataframe tbody tr th:only-of-type {\n",
       "        vertical-align: middle;\n",
       "    }\n",
       "\n",
       "    .dataframe tbody tr th {\n",
       "        vertical-align: top;\n",
       "    }\n",
       "\n",
       "    .dataframe thead th {\n",
       "        text-align: right;\n",
       "    }\n",
       "</style>\n",
       "<table border=\"1\" class=\"dataframe\">\n",
       "  <thead>\n",
       "    <tr style=\"text-align: right;\">\n",
       "      <th></th>\n",
       "      <th>short_name</th>\n",
       "      <th>id</th>\n",
       "      <th>conversation</th>\n",
       "      <th>flow_id</th>\n",
       "      <th>timestamp</th>\n",
       "      <th>content</th>\n",
       "      <th>answer_type</th>\n",
       "      <th>failed</th>\n",
       "      <th>author</th>\n",
       "    </tr>\n",
       "  </thead>\n",
       "  <tbody>\n",
       "    <tr>\n",
       "      <th>0</th>\n",
       "      <td>stjohns</td>\n",
       "      <td>1</td>\n",
       "      <td>1</td>\n",
       "      <td>F38211883137QDUCKE</td>\n",
       "      <td>2025-01-21T22:25:06.797000Z</td>\n",
       "      <td>What is my GPA?</td>\n",
       "      <td>NaN</td>\n",
       "      <td>False</td>\n",
       "      <td>USER</td>\n",
       "    </tr>\n",
       "    <tr>\n",
       "      <th>2</th>\n",
       "      <td>stjohns</td>\n",
       "      <td>3</td>\n",
       "      <td>2</td>\n",
       "      <td>F382118841665YTP21</td>\n",
       "      <td>2025-01-21T22:28:45.996000Z</td>\n",
       "      <td>What is my gpa?</td>\n",
       "      <td>NaN</td>\n",
       "      <td>False</td>\n",
       "      <td>USER</td>\n",
       "    </tr>\n",
       "    <tr>\n",
       "      <th>4</th>\n",
       "      <td>stjohns</td>\n",
       "      <td>5</td>\n",
       "      <td>2</td>\n",
       "      <td>F672655459266TA1NPW</td>\n",
       "      <td>2025-01-21T22:29:00.041000Z</td>\n",
       "      <td>Who are my advisors?</td>\n",
       "      <td>NaN</td>\n",
       "      <td>False</td>\n",
       "      <td>USER</td>\n",
       "    </tr>\n",
       "    <tr>\n",
       "      <th>6</th>\n",
       "      <td>stjohns</td>\n",
       "      <td>7</td>\n",
       "      <td>2</td>\n",
       "      <td>F38211884424Z5YG4I</td>\n",
       "      <td>2025-01-21T22:29:17.658000Z</td>\n",
       "      <td>Do I have any holds?</td>\n",
       "      <td>NaN</td>\n",
       "      <td>False</td>\n",
       "      <td>USER</td>\n",
       "    </tr>\n",
       "    <tr>\n",
       "      <th>8</th>\n",
       "      <td>stjohns</td>\n",
       "      <td>9</td>\n",
       "      <td>2</td>\n",
       "      <td>F38211884697A3JI4V</td>\n",
       "      <td>2025-01-21T22:29:41.216000Z</td>\n",
       "      <td>What is my balance?</td>\n",
       "      <td>NaN</td>\n",
       "      <td>False</td>\n",
       "      <td>USER</td>\n",
       "    </tr>\n",
       "    <tr>\n",
       "      <th>...</th>\n",
       "      <td>...</td>\n",
       "      <td>...</td>\n",
       "      <td>...</td>\n",
       "      <td>...</td>\n",
       "      <td>...</td>\n",
       "      <td>...</td>\n",
       "      <td>...</td>\n",
       "      <td>...</td>\n",
       "      <td>...</td>\n",
       "    </tr>\n",
       "    <tr>\n",
       "      <th>126</th>\n",
       "      <td>stjohns</td>\n",
       "      <td>127</td>\n",
       "      <td>40</td>\n",
       "      <td>F503088875280A0V4WS</td>\n",
       "      <td>2025-01-23T20:18:47.369000Z</td>\n",
       "      <td>how do i register for classes</td>\n",
       "      <td>NaN</td>\n",
       "      <td>False</td>\n",
       "      <td>USER</td>\n",
       "    </tr>\n",
       "    <tr>\n",
       "      <th>128</th>\n",
       "      <td>stjohns</td>\n",
       "      <td>129</td>\n",
       "      <td>41</td>\n",
       "      <td>F787314681637RGUHPU</td>\n",
       "      <td>2025-01-27T16:07:58.863000Z</td>\n",
       "      <td>Where is IT located?</td>\n",
       "      <td>NaN</td>\n",
       "      <td>False</td>\n",
       "      <td>USER</td>\n",
       "    </tr>\n",
       "    <tr>\n",
       "      <th>130</th>\n",
       "      <td>stjohns</td>\n",
       "      <td>131</td>\n",
       "      <td>41</td>\n",
       "      <td>F10633754359734Z2VMP</td>\n",
       "      <td>2025-01-27T16:08:41.778000Z</td>\n",
       "      <td>Who is David Park?</td>\n",
       "      <td>NaN</td>\n",
       "      <td>False</td>\n",
       "      <td>USER</td>\n",
       "    </tr>\n",
       "    <tr>\n",
       "      <th>132</th>\n",
       "      <td>stjohns</td>\n",
       "      <td>133</td>\n",
       "      <td>42</td>\n",
       "      <td>F1703038121777RNI2SZ</td>\n",
       "      <td>2025-01-27T16:27:39.337000Z</td>\n",
       "      <td>How do I schedule an appointment with IT?</td>\n",
       "      <td>NaN</td>\n",
       "      <td>False</td>\n",
       "      <td>USER</td>\n",
       "    </tr>\n",
       "    <tr>\n",
       "      <th>134</th>\n",
       "      <td>stjohns</td>\n",
       "      <td>135</td>\n",
       "      <td>43</td>\n",
       "      <td>F1326632322194C2ZPH</td>\n",
       "      <td>2025-01-27T16:28:22.117000Z</td>\n",
       "      <td>How do I schedule an appointment with IT?</td>\n",
       "      <td>NaN</td>\n",
       "      <td>False</td>\n",
       "      <td>USER</td>\n",
       "    </tr>\n",
       "  </tbody>\n",
       "</table>\n",
       "<p>68 rows × 9 columns</p>\n",
       "</div>"
      ],
      "text/plain": [
       "    short_name   id  conversation               flow_id  \\\n",
       "0      stjohns    1             1    F38211883137QDUCKE   \n",
       "2      stjohns    3             2    F382118841665YTP21   \n",
       "4      stjohns    5             2   F672655459266TA1NPW   \n",
       "6      stjohns    7             2    F38211884424Z5YG4I   \n",
       "8      stjohns    9             2    F38211884697A3JI4V   \n",
       "..         ...  ...           ...                   ...   \n",
       "126    stjohns  127            40   F503088875280A0V4WS   \n",
       "128    stjohns  129            41   F787314681637RGUHPU   \n",
       "130    stjohns  131            41  F10633754359734Z2VMP   \n",
       "132    stjohns  133            42  F1703038121777RNI2SZ   \n",
       "134    stjohns  135            43   F1326632322194C2ZPH   \n",
       "\n",
       "                       timestamp                                    content  \\\n",
       "0    2025-01-21T22:25:06.797000Z                            What is my GPA?   \n",
       "2    2025-01-21T22:28:45.996000Z                            What is my gpa?   \n",
       "4    2025-01-21T22:29:00.041000Z                       Who are my advisors?   \n",
       "6    2025-01-21T22:29:17.658000Z                       Do I have any holds?   \n",
       "8    2025-01-21T22:29:41.216000Z                        What is my balance?   \n",
       "..                           ...                                        ...   \n",
       "126  2025-01-23T20:18:47.369000Z              how do i register for classes   \n",
       "128  2025-01-27T16:07:58.863000Z                       Where is IT located?   \n",
       "130  2025-01-27T16:08:41.778000Z                         Who is David Park?   \n",
       "132  2025-01-27T16:27:39.337000Z  How do I schedule an appointment with IT?   \n",
       "134  2025-01-27T16:28:22.117000Z  How do I schedule an appointment with IT?   \n",
       "\n",
       "    answer_type  failed author  \n",
       "0           NaN   False   USER  \n",
       "2           NaN   False   USER  \n",
       "4           NaN   False   USER  \n",
       "6           NaN   False   USER  \n",
       "8           NaN   False   USER  \n",
       "..          ...     ...    ...  \n",
       "126         NaN   False   USER  \n",
       "128         NaN   False   USER  \n",
       "130         NaN   False   USER  \n",
       "132         NaN   False   USER  \n",
       "134         NaN   False   USER  \n",
       "\n",
       "[68 rows x 9 columns]"
      ]
     },
     "execution_count": 6,
     "metadata": {},
     "output_type": "execute_result"
    }
   ],
   "source": [
    "convs = pd.read_csv('stjohns.csv')\n",
    "convs = convs[convs['author'] == 'USER']\n",
    "convs"
   ]
  },
  {
   "cell_type": "code",
   "execution_count": 7,
   "id": "fe4a9ff6-68c1-40b1-9304-43c1805e9bf2",
   "metadata": {},
   "outputs": [],
   "source": [
    "def make_embed_text_fn(model):\n",
    "  #@retry.Retry(timeout=300.0)\n",
    "  def embed_fn(text: str) -> list[float]:\n",
    "    # Set the task_type to CLUSTERING.\n",
    "    embedding = genai.embed_content(model=model,\n",
    "                                    content=text,\n",
    "                                    task_type=\"SEMANTIC_SIMILARITY\")\n",
    "    return embedding[\"embedding\"]\n",
    "  return embed_fn\n",
    "\n",
    "def create_embeddings(df):\n",
    "  model = 'models/embedding-001'\n",
    "  df['Embeddings'] = df['content'].progress_apply(make_embed_text_fn(model))\n",
    "  return df"
   ]
  },
  {
   "cell_type": "code",
   "execution_count": 8,
   "id": "d06eabb9-dedd-4c30-8bf1-35d2e99e30d1",
   "metadata": {},
   "outputs": [
    {
     "data": {
      "application/vnd.jupyter.widget-view+json": {
       "model_id": "87e186517883475482fd6c28e1e6e9e9",
       "version_major": 2,
       "version_minor": 0
      },
      "text/plain": [
       "  0%|          | 0/68 [00:00<?, ?it/s]"
      ]
     },
     "metadata": {},
     "output_type": "display_data"
    }
   ],
   "source": [
    "convs = create_embeddings(convs)"
   ]
  },
  {
   "cell_type": "code",
   "execution_count": 9,
   "id": "398847bd-f43c-4dcd-943b-51a978355428",
   "metadata": {},
   "outputs": [
    {
     "data": {
      "text/plain": [
       "(68, 768)"
      ]
     },
     "execution_count": 9,
     "metadata": {},
     "output_type": "execute_result"
    }
   ],
   "source": [
    "X = np.array(convs['Embeddings'].to_list(), dtype=np.float32)\n",
    "X.shape"
   ]
  },
  {
   "cell_type": "markdown",
   "id": "692992fc-2e85-4624-8ca6-3a0d5dd3fa53",
   "metadata": {},
   "source": [
    "# T-SNE"
   ]
  },
  {
   "cell_type": "code",
   "execution_count": 10,
   "id": "1c557dc3-6615-4d8c-a4f1-b5bdd73ec536",
   "metadata": {},
   "outputs": [],
   "source": [
    "tsne = TSNE(random_state=0, max_iter=1000)\n",
    "tsne_results = tsne.fit_transform(X)"
   ]
  },
  {
   "cell_type": "code",
   "execution_count": 11,
   "id": "13a67ee1-bd6c-4f4e-b07a-3981a87addf0",
   "metadata": {},
   "outputs": [],
   "source": [
    "df_tsne = pd.DataFrame(tsne_results, columns=['TSNE1', 'TSNE2'])\n",
    "#df_tsne['Class Name'] = df_train['Class Name'] # Add labels column from df_train to df_tsne\n"
   ]
  },
  {
   "cell_type": "code",
   "execution_count": 12,
   "id": "200d0685-a0cd-48e6-83f4-6ec347c40497",
   "metadata": {},
   "outputs": [
    {
     "data": {
      "image/png": "[encoded data removed]",
      "text/plain": [
       "<Figure size 800x600 with 1 Axes>"
      ]
     },
     "metadata": {},
     "output_type": "display_data"
    }
   ],
   "source": [
    "fig, ax = plt.subplots(figsize=(8,6)) # Set figsize\n",
    "sns.set_style('darkgrid', {\"grid.color\": \".6\", \"grid.linestyle\": \":\"})\n",
    "sns.scatterplot(data=df_tsne, x='TSNE1', y='TSNE2')\n",
    "plt.title('Scatter plot using t-SNE');\n",
    "plt.xlabel('TSNE1');\n",
    "plt.ylabel('TSNE2');\n",
    "plt.axis('equal');"
   ]
  },
  {
   "cell_type": "markdown",
   "id": "d6652d9b-0bca-4fd4-9e96-a72e1a4e27a4",
   "metadata": {},
   "source": [
    "# KMeans"
   ]
  },
  {
   "cell_type": "code",
   "execution_count": 13,
   "id": "57740ba6-6de7-48ba-932f-a6eb399f6643",
   "metadata": {},
   "outputs": [],
   "source": [
    "kmeans_model = KMeans(n_clusters=6, random_state=1, n_init='auto').fit(X)\n",
    "labels = kmeans_model.fit_predict(X)\n",
    "df_tsne['Cluster'] = labels"
   ]
  },
  {
   "cell_type": "code",
   "execution_count": 14,
   "id": "e983044a-46ce-4aa5-85d9-07467d57f2e3",
   "metadata": {},
   "outputs": [
    {
     "data": {
      "image/png": "[encoded data removed]",
      "text/plain": [
       "<Figure size 800x600 with 1 Axes>"
      ]
     },
     "metadata": {},
     "output_type": "display_data"
    }
   ],
   "source": [
    "fig, ax = plt.subplots(figsize=(8,6)) # Set figsize\n",
    "sns.set_style('darkgrid', {\"grid.color\": \".6\", \"grid.linestyle\": \":\"})\n",
    "sns.scatterplot(data=df_tsne, x='TSNE1', y='TSNE2', hue='Cluster', palette='magma')\n",
    "sns.move_legend(ax, \"upper left\", bbox_to_anchor=(1, 1))\n",
    "plt.title('Scatter plot of news using KMeans Clustering');\n",
    "plt.xlabel('TSNE1');\n",
    "plt.ylabel('TSNE2');\n",
    "plt.axis('equal');"
   ]
  },
  {
   "cell_type": "code",
   "execution_count": 33,
   "id": "84b8806b-63a5-4ac3-b1c7-bc81cdb63569",
   "metadata": {},
   "outputs": [
    {
     "data": {
      "text/plain": [
       "array([0, 1, 2, 3, 4, 5], dtype=int32)"
      ]
     },
     "execution_count": 33,
     "metadata": {},
     "output_type": "execute_result"
    }
   ],
   "source": [
    "np.unique(labels)"
   ]
  },
  {
   "cell_type": "code",
   "execution_count": 40,
   "id": "66727807-92c4-4128-acec-a65c774f8333",
   "metadata": {},
   "outputs": [
    {
     "data": {
      "text/plain": [
       "array(['IT Service Desk',\n",
       "       'Where is the Marillac IT service center located',\n",
       "       'what is the IT number', 'Where is IT located?',\n",
       "       'How do I schedule an appointment with IT?'], dtype=object)"
      ]
     },
     "execution_count": 40,
     "metadata": {},
     "output_type": "execute_result"
    }
   ],
   "source": [
    "convs[labels == 0]['content'].unique()"
   ]
  },
  {
   "cell_type": "code",
   "execution_count": 41,
   "id": "449e6356-9765-4776-83f9-ed9ce5d3c420",
   "metadata": {},
   "outputs": [
    {
     "data": {
      "text/plain": [
       "array(['What is my GPA?', 'What is my gpa?', 'Who are my advisors?',\n",
       "       'Do I have any holds?', 'What is my balance?',\n",
       "       'What is my class schedule?', 'What is my schedule?',\n",
       "       'How do I change my major?', 'what is my gpa',\n",
       "       'What is my GPA currently', 'What does my schedule look like',\n",
       "       'How do you drop a class', \"What's my GPA\",\n",
       "       'what is my stormcard id number', 'what is my x number'],\n",
       "      dtype=object)"
      ]
     },
     "execution_count": 41,
     "metadata": {},
     "output_type": "execute_result"
    }
   ],
   "source": [
    "convs[labels == 1]['content'].unique()"
   ]
  },
  {
   "cell_type": "code",
   "execution_count": 42,
   "id": "f40a357e-9bdc-4a6f-b2cc-57aefd29b435",
   "metadata": {},
   "outputs": [
    {
     "data": {
      "text/plain": [
       "array([\"I'd like to rate this conversation.\",\n",
       "       'I’d like to rate this conversation too.', 'Greetings!',\n",
       "       'Getting there.',\n",
       "       'Use this chat to test my responses with different relevance & weight values.',\n",
       "       'One last time.', 'Can you find people in the directory?',\n",
       "       'Within Connect, there is a Directory. Can you access people in it?',\n",
       "       'Find me information on Brendan Monahan.',\n",
       "       'How can I email professor Alvarado?', 'Who is Roger So?',\n",
       "       'What is the value of pi to the 39th value',\n",
       "       'I need to contact Eric Alvarado', 'Contact Eric Alvarado',\n",
       "       'Microsoft Teams.', 'can you tell me more', 'Gaming', 'Esports',\n",
       "       'How do I make cheese', 'What campuses are there?',\n",
       "       'what is our mascot', 'what are the hours for the gym',\n",
       "       'how do i register an overnight guest',\n",
       "       'where is the university located', 'how much is the tuition',\n",
       "       'employment opportunities', 'how do I apply for housing',\n",
       "       'Who is David Park?'], dtype=object)"
      ]
     },
     "execution_count": 42,
     "metadata": {},
     "output_type": "execute_result"
    }
   ],
   "source": [
    "convs[labels == 2]['content'].unique()"
   ]
  },
  {
   "cell_type": "code",
   "execution_count": 43,
   "id": "b01d63fc-6e9f-4458-a014-dbcd2f2cb420",
   "metadata": {},
   "outputs": [
    {
     "data": {
      "text/plain": [
       "array(['How do I register for courses?', 'show me the academic calendar',\n",
       "       'who should i contact about graduating',\n",
       "       'how can i find my academic advisor',\n",
       "       'when is the deadline for graduate programs',\n",
       "       'is there a map of the campus', 'what is the final exam schedule',\n",
       "       'how do i request a transcript',\n",
       "       'what is the link for the registrar',\n",
       "       'how do i register for classes'], dtype=object)"
      ]
     },
     "execution_count": 43,
     "metadata": {},
     "output_type": "execute_result"
    }
   ],
   "source": [
    "convs[labels == 3]['content'].unique()"
   ]
  },
  {
   "cell_type": "code",
   "execution_count": 44,
   "id": "e0b991ae-93e0-4c28-948f-017404c2047c",
   "metadata": {},
   "outputs": [
    {
     "data": {
      "text/plain": [
       "array(['Chatbot', 'transcript', 'how do i login as an authorized user',\n",
       "       'queens', 'password'], dtype=object)"
      ]
     },
     "execution_count": 44,
     "metadata": {},
     "output_type": "execute_result"
    }
   ],
   "source": [
    "convs[labels == 4]['content'].unique()"
   ]
  },
  {
   "cell_type": "code",
   "execution_count": 45,
   "id": "cc002630-d37a-423c-931f-45835639bda0",
   "metadata": {},
   "outputs": [
    {
     "data": {
      "text/plain": [
       "array(['do you have nursing as a major',\n",
       "       'what majors are available at st johns'], dtype=object)"
      ]
     },
     "execution_count": 45,
     "metadata": {},
     "output_type": "execute_result"
    }
   ],
   "source": [
    "convs[labels == 5]['content'].unique()"
   ]
  }
 ],
 "metadata": {
  "kernelspec": {
   "display_name": "Python 3 (ipykernel)",
   "language": "python",
   "name": "python3"
  },
  "language_info": {
   "codemirror_mode": {
    "name": "ipython",
    "version": 3
   },
   "file_extension": ".py",
   "mimetype": "text/x-python",
   "name": "python",
   "nbconvert_exporter": "python",
   "pygments_lexer": "ipython3",
   "version": "3.13.1"
  }
 },
 "nbformat": 4,
 "nbformat_minor": 5
}
